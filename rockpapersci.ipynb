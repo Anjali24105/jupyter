{
 "cells": [
  {
   "cell_type": "code",
   "execution_count": 1,
   "id": "5e1bad0c-adf8-4b6b-9e2c-faf5d39c8e23",
   "metadata": {},
   "outputs": [
    {
     "name": "stdin",
     "output_type": "stream",
     "text": [
      " rock\n",
      " paper\n"
     ]
    },
    {
     "name": "stdout",
     "output_type": "stream",
     "text": [
      "b wins\n"
     ]
    }
   ],
   "source": [
    "a=input()\n",
    "b=input()\n",
    "if a==\"rock\" and b==\"scissors\":\n",
    "  print(\"a wins\")\n",
    "elif a==\"rock\" and b==\"paper\":\n",
    "  print(\"b wins\")\n",
    "elif a==\"scissors\" and b==\"rock\":\n",
    "  print(\"b wins\")\n",
    "elif a==\"scissors\" and b==\"paper\":\n",
    "  print(\"a wins\")\n",
    "elif a==\"paper\" and b==\"rock\":\n",
    "  print(\"a wins\")\n",
    "elif a==\"paper\" and b==\"scissors\":\n",
    "  print(\"b wins\")\n",
    "elif a==b:\n",
    "    print(\"draw\")\n",
    "else:\n",
    "  print(\"no point\")"
   ]
  }
 ],
 "metadata": {
  "kernelspec": {
   "display_name": "Python [conda env:base] *",
   "language": "python",
   "name": "conda-base-py"
  },
  "language_info": {
   "codemirror_mode": {
    "name": "ipython",
    "version": 3
   },
   "file_extension": ".py",
   "mimetype": "text/x-python",
   "name": "python",
   "nbconvert_exporter": "python",
   "pygments_lexer": "ipython3",
   "version": "3.12.7"
  }
 },
 "nbformat": 4,
 "nbformat_minor": 5
}
